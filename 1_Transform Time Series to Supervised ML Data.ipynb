{
 "cells": [
  {
   "cell_type": "markdown",
   "metadata": {},
   "source": [
    "# How to Transform Time Series to a Supervised Learning Problem\n",
    "\n",
    "Time series forecasting can be framed as a supervised learning problem. This re-framing of your\n",
    "time series data allows you access to the suite of standard linear and nonlinear machine learning\n",
    "algorithms on your problem. "
   ]
  },
  {
   "cell_type": "code",
   "execution_count": 1,
   "metadata": {},
   "outputs": [],
   "source": [
    "import numpy as np"
   ]
  },
  {
   "cell_type": "code",
   "execution_count": 2,
   "metadata": {},
   "outputs": [],
   "source": [
    "# split a univariate sequence into samples\n",
    "def split_sequence(sequence, n_steps):\n",
    "    X, y = list(), list()\n",
    "    for i in range(len(sequence)):\n",
    "        # find the end of this pattern\n",
    "        end_ix = i + n_steps\n",
    "        if end_ix > len(sequence)-1:\n",
    "            break\n",
    "        # gather input and output parts of the pattern\n",
    "        seq_x, seq_y = sequence[i:end_ix], sequence[end_ix]\n",
    "        X.append(seq_x)\n",
    "        y.append(seq_y)\n",
    "    return np.array(X), np.array(y)"
   ]
  },
  {
   "cell_type": "code",
   "execution_count": 3,
   "metadata": {},
   "outputs": [],
   "source": [
    "s = np.sin(np.linspace(0,5))\n",
    "X, y = split_sequence(s, 4)"
   ]
  },
  {
   "cell_type": "code",
   "execution_count": 4,
   "metadata": {},
   "outputs": [
    {
     "data": {
      "text/plain": [
       "0.9975465171936683"
      ]
     },
     "execution_count": 4,
     "metadata": {},
     "output_type": "execute_result"
    }
   ],
   "source": [
    "from sklearn.ensemble import RandomForestRegressor\n",
    "model = RandomForestRegressor()\n",
    "model.fit(X, y)\n",
    "model.score(X, y)"
   ]
  },
  {
   "cell_type": "code",
   "execution_count": 5,
   "metadata": {},
   "outputs": [
    {
     "data": {
      "text/plain": [
       "array([ 0.27344502,  0.41701199,  0.53133125,  0.61027581,  0.67568277,\n",
       "        0.74392993,  0.81632876,  0.8628483 ,  0.9081266 ,  0.95215415,\n",
       "        0.98049185,  0.99058831,  0.9954068 ,  0.98435409,  0.96602695,\n",
       "        0.9447263 ,  0.90972702,  0.87721732,  0.81492264,  0.746396  ,\n",
       "        0.68998863,  0.60310321,  0.51997332,  0.4275486 ,  0.34496897,\n",
       "        0.24481752,  0.12076481,  0.03203239, -0.10469522, -0.22480794,\n",
       "       -0.31819863, -0.42792816, -0.52064332, -0.61197405, -0.6823627 ,\n",
       "       -0.7514598 , -0.81800507, -0.87370199, -0.91416597, -0.95287841,\n",
       "       -0.97585603, -0.98693197, -0.99444626, -0.98878225, -0.98081635,\n",
       "       -0.96998555])"
      ]
     },
     "execution_count": 5,
     "metadata": {},
     "output_type": "execute_result"
    }
   ],
   "source": [
    "pred = model.predict(X)\n",
    "pred"
   ]
  },
  {
   "cell_type": "code",
   "execution_count": null,
   "metadata": {},
   "outputs": [],
   "source": []
  }
 ],
 "metadata": {
  "kernelspec": {
   "display_name": "Python 3",
   "language": "python",
   "name": "python3"
  },
  "language_info": {
   "codemirror_mode": {
    "name": "ipython",
    "version": 3
   },
   "file_extension": ".py",
   "mimetype": "text/x-python",
   "name": "python",
   "nbconvert_exporter": "python",
   "pygments_lexer": "ipython3",
   "version": "3.7.7"
  }
 },
 "nbformat": 4,
 "nbformat_minor": 4
}
